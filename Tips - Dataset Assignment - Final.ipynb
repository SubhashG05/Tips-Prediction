{
 "cells": [
  {
   "cell_type": "markdown",
   "metadata": {},
   "source": [
    "# Import the Data"
   ]
  },
  {
   "cell_type": "markdown",
   "metadata": {},
   "source": [
    "### Load the csv dataset online and display the last 5 records.\n",
    "Hint = use seaborn to load the dataset"
   ]
  },
  {
   "cell_type": "code",
   "execution_count": 3,
   "metadata": {},
   "outputs": [
    {
     "data": {
      "text/html": [
       "<div>\n",
       "<style scoped>\n",
       "    .dataframe tbody tr th:only-of-type {\n",
       "        vertical-align: middle;\n",
       "    }\n",
       "\n",
       "    .dataframe tbody tr th {\n",
       "        vertical-align: top;\n",
       "    }\n",
       "\n",
       "    .dataframe thead th {\n",
       "        text-align: right;\n",
       "    }\n",
       "</style>\n",
       "<table border=\"1\" class=\"dataframe\">\n",
       "  <thead>\n",
       "    <tr style=\"text-align: right;\">\n",
       "      <th></th>\n",
       "      <th>total_bill</th>\n",
       "      <th>tip</th>\n",
       "      <th>sex</th>\n",
       "      <th>smoker</th>\n",
       "      <th>day</th>\n",
       "      <th>time</th>\n",
       "      <th>size</th>\n",
       "    </tr>\n",
       "  </thead>\n",
       "  <tbody>\n",
       "    <tr>\n",
       "      <th>239</th>\n",
       "      <td>29.03</td>\n",
       "      <td>5.92</td>\n",
       "      <td>Male</td>\n",
       "      <td>No</td>\n",
       "      <td>Sat</td>\n",
       "      <td>Dinner</td>\n",
       "      <td>3</td>\n",
       "    </tr>\n",
       "    <tr>\n",
       "      <th>240</th>\n",
       "      <td>27.18</td>\n",
       "      <td>2.00</td>\n",
       "      <td>Female</td>\n",
       "      <td>Yes</td>\n",
       "      <td>Sat</td>\n",
       "      <td>Dinner</td>\n",
       "      <td>2</td>\n",
       "    </tr>\n",
       "    <tr>\n",
       "      <th>241</th>\n",
       "      <td>22.67</td>\n",
       "      <td>2.00</td>\n",
       "      <td>Male</td>\n",
       "      <td>Yes</td>\n",
       "      <td>Sat</td>\n",
       "      <td>Dinner</td>\n",
       "      <td>2</td>\n",
       "    </tr>\n",
       "    <tr>\n",
       "      <th>242</th>\n",
       "      <td>17.82</td>\n",
       "      <td>1.75</td>\n",
       "      <td>Male</td>\n",
       "      <td>No</td>\n",
       "      <td>Sat</td>\n",
       "      <td>Dinner</td>\n",
       "      <td>2</td>\n",
       "    </tr>\n",
       "    <tr>\n",
       "      <th>243</th>\n",
       "      <td>18.78</td>\n",
       "      <td>3.00</td>\n",
       "      <td>Female</td>\n",
       "      <td>No</td>\n",
       "      <td>Thur</td>\n",
       "      <td>Dinner</td>\n",
       "      <td>2</td>\n",
       "    </tr>\n",
       "  </tbody>\n",
       "</table>\n",
       "</div>"
      ],
      "text/plain": [
       "     total_bill   tip     sex smoker   day    time  size\n",
       "239       29.03  5.92    Male     No   Sat  Dinner     3\n",
       "240       27.18  2.00  Female    Yes   Sat  Dinner     2\n",
       "241       22.67  2.00    Male    Yes   Sat  Dinner     2\n",
       "242       17.82  1.75    Male     No   Sat  Dinner     2\n",
       "243       18.78  3.00  Female     No  Thur  Dinner     2"
      ]
     },
     "execution_count": 3,
     "metadata": {},
     "output_type": "execute_result"
    }
   ],
   "source": [
    "#Answer 1\n",
    "import pandas as pd\n",
    "import seaborn as sb\n",
    "import numpy as np\n",
    "import matplotlib.pyplot as plt\n",
    "\n",
    "##Using Pandas Library\n",
    "#hotel_df = pd.read_csv('C:\\\\Users\\\\sgurappa\\\\Desktop\\\\tips.csv')\n",
    "#hotel_df.tail()\n",
    "\n",
    "##Using Seaborn Library\n",
    "#Loading an example dataset from the online repository https://github.com/mwaskom/seaborn-data\n",
    "tips_df = sb.load_dataset('tips')\n",
    "tips_df.tail()\n",
    "#print(df.tail(n=5)) #If we want to display 'n' number of records."
   ]
  },
  {
   "cell_type": "markdown",
   "metadata": {},
   "source": [
    "### Convert the total_bill values into a 61 x 4 matix.\n",
    "hint = convert into array and then into matrix"
   ]
  },
  {
   "cell_type": "code",
   "execution_count": 12,
   "metadata": {},
   "outputs": [
    {
     "name": "stdout",
     "output_type": "stream",
     "text": [
      "(61, 4)\n"
     ]
    },
    {
     "data": {
      "text/plain": [
       "matrix([[16.99, 10.34, 21.01, 23.68],\n",
       "        [24.59, 25.29,  8.77, 26.88],\n",
       "        [15.04, 14.78, 10.27, 35.26],\n",
       "        [15.42, 18.43, 14.83, 21.58],\n",
       "        [10.33, 16.29, 16.97, 20.65],\n",
       "        [17.92, 20.29, 15.77, 39.42],\n",
       "        [19.82, 17.81, 13.37, 12.69],\n",
       "        [21.7 , 19.65,  9.55, 18.35],\n",
       "        [15.06, 20.69, 17.78, 24.06],\n",
       "        [16.31, 16.93, 18.69, 31.27],\n",
       "        [16.04, 17.46, 13.94,  9.68],\n",
       "        [30.4 , 18.29, 22.23, 32.4 ],\n",
       "        [28.55, 18.04, 12.54, 10.29],\n",
       "        [34.81,  9.94, 25.56, 19.49],\n",
       "        [38.01, 26.41, 11.24, 48.27],\n",
       "        [20.29, 13.81, 11.02, 18.29],\n",
       "        [17.59, 20.08, 16.45,  3.07],\n",
       "        [20.23, 15.01, 12.02, 17.07],\n",
       "        [26.86, 25.28, 14.73, 10.51],\n",
       "        [17.92, 27.2 , 22.76, 17.29],\n",
       "        [19.44, 16.66, 10.07, 32.68],\n",
       "        [15.98, 34.83, 13.03, 18.28],\n",
       "        [24.71, 21.16, 28.97, 22.49],\n",
       "        [ 5.75, 16.32, 22.75, 40.17],\n",
       "        [27.28, 12.03, 21.01, 12.46],\n",
       "        [11.35, 15.38, 44.3 , 22.42],\n",
       "        [20.92, 15.36, 20.49, 25.21],\n",
       "        [18.24, 14.31, 14.  ,  7.25],\n",
       "        [38.07, 23.95, 25.71, 17.31],\n",
       "        [29.93, 10.65, 12.43, 24.08],\n",
       "        [11.69, 13.42, 14.26, 15.95],\n",
       "        [12.48, 29.8 ,  8.52, 14.52],\n",
       "        [11.38, 22.82, 19.08, 20.27],\n",
       "        [11.17, 12.26, 18.26,  8.51],\n",
       "        [10.33, 14.15, 16.  , 13.16],\n",
       "        [17.47, 34.3 , 41.19, 27.05],\n",
       "        [16.43,  8.35, 18.64, 11.87],\n",
       "        [ 9.78,  7.51, 14.07, 13.13],\n",
       "        [17.26, 24.55, 19.77, 29.85],\n",
       "        [48.17, 25.  , 13.39, 16.49],\n",
       "        [21.5 , 12.66, 16.21, 13.81],\n",
       "        [17.51, 24.52, 20.76, 31.71],\n",
       "        [10.59, 10.63, 50.81, 15.81],\n",
       "        [ 7.25, 31.85, 16.82, 32.9 ],\n",
       "        [17.89, 14.48,  9.6 , 34.63],\n",
       "        [34.65, 23.33, 45.35, 23.17],\n",
       "        [40.55, 20.69, 20.9 , 30.46],\n",
       "        [18.15, 23.1 , 15.69, 19.81],\n",
       "        [28.44, 15.48, 16.58,  7.56],\n",
       "        [10.34, 43.11, 13.  , 13.51],\n",
       "        [18.71, 12.74, 13.  , 16.4 ],\n",
       "        [20.53, 16.47, 26.59, 38.73],\n",
       "        [24.27, 12.76, 30.06, 25.89],\n",
       "        [48.33, 13.27, 28.17, 12.9 ],\n",
       "        [28.15, 11.59,  7.74, 30.14],\n",
       "        [12.16, 13.42,  8.58, 15.98],\n",
       "        [13.42, 16.27, 10.09, 20.45],\n",
       "        [13.28, 22.12, 24.01, 15.69],\n",
       "        [11.61, 10.77, 15.53, 10.07],\n",
       "        [12.6 , 32.83, 35.83, 29.03],\n",
       "        [27.18, 22.67, 17.82, 18.78]])"
      ]
     },
     "execution_count": 12,
     "metadata": {},
     "output_type": "execute_result"
    }
   ],
   "source": [
    "#Answer 2\n",
    "#Create an array\n",
    "x = np.array(tips_df['total_bill'])\n",
    "\n",
    "#Convert into matrix\n",
    "matrix = np.asmatrix(x)\n",
    "\n",
    "#Reshape a matrix to 61 * 4 matrix\n",
    "total_bill_matrix = np.reshape(matrix, (61,4))\n",
    "print(total_bill_matrix.shape)\n",
    "total_bill_matrix"
   ]
  },
  {
   "cell_type": "markdown",
   "metadata": {},
   "source": [
    "### Check if there are any null values in the dataset"
   ]
  },
  {
   "cell_type": "code",
   "execution_count": 14,
   "metadata": {},
   "outputs": [
    {
     "data": {
      "text/html": [
       "<div>\n",
       "<style scoped>\n",
       "    .dataframe tbody tr th:only-of-type {\n",
       "        vertical-align: middle;\n",
       "    }\n",
       "\n",
       "    .dataframe tbody tr th {\n",
       "        vertical-align: top;\n",
       "    }\n",
       "\n",
       "    .dataframe thead th {\n",
       "        text-align: right;\n",
       "    }\n",
       "</style>\n",
       "<table border=\"1\" class=\"dataframe\">\n",
       "  <thead>\n",
       "    <tr style=\"text-align: right;\">\n",
       "      <th></th>\n",
       "      <th>total_bill</th>\n",
       "      <th>tip</th>\n",
       "      <th>sex</th>\n",
       "      <th>smoker</th>\n",
       "      <th>day</th>\n",
       "      <th>time</th>\n",
       "      <th>size</th>\n",
       "    </tr>\n",
       "  </thead>\n",
       "  <tbody>\n",
       "    <tr>\n",
       "      <th>0</th>\n",
       "      <td>False</td>\n",
       "      <td>False</td>\n",
       "      <td>False</td>\n",
       "      <td>False</td>\n",
       "      <td>False</td>\n",
       "      <td>False</td>\n",
       "      <td>False</td>\n",
       "    </tr>\n",
       "    <tr>\n",
       "      <th>1</th>\n",
       "      <td>False</td>\n",
       "      <td>False</td>\n",
       "      <td>False</td>\n",
       "      <td>False</td>\n",
       "      <td>False</td>\n",
       "      <td>False</td>\n",
       "      <td>False</td>\n",
       "    </tr>\n",
       "    <tr>\n",
       "      <th>2</th>\n",
       "      <td>False</td>\n",
       "      <td>False</td>\n",
       "      <td>False</td>\n",
       "      <td>False</td>\n",
       "      <td>False</td>\n",
       "      <td>False</td>\n",
       "      <td>False</td>\n",
       "    </tr>\n",
       "    <tr>\n",
       "      <th>3</th>\n",
       "      <td>False</td>\n",
       "      <td>False</td>\n",
       "      <td>False</td>\n",
       "      <td>False</td>\n",
       "      <td>False</td>\n",
       "      <td>False</td>\n",
       "      <td>False</td>\n",
       "    </tr>\n",
       "    <tr>\n",
       "      <th>4</th>\n",
       "      <td>False</td>\n",
       "      <td>False</td>\n",
       "      <td>False</td>\n",
       "      <td>False</td>\n",
       "      <td>False</td>\n",
       "      <td>False</td>\n",
       "      <td>False</td>\n",
       "    </tr>\n",
       "    <tr>\n",
       "      <th>...</th>\n",
       "      <td>...</td>\n",
       "      <td>...</td>\n",
       "      <td>...</td>\n",
       "      <td>...</td>\n",
       "      <td>...</td>\n",
       "      <td>...</td>\n",
       "      <td>...</td>\n",
       "    </tr>\n",
       "    <tr>\n",
       "      <th>239</th>\n",
       "      <td>False</td>\n",
       "      <td>False</td>\n",
       "      <td>False</td>\n",
       "      <td>False</td>\n",
       "      <td>False</td>\n",
       "      <td>False</td>\n",
       "      <td>False</td>\n",
       "    </tr>\n",
       "    <tr>\n",
       "      <th>240</th>\n",
       "      <td>False</td>\n",
       "      <td>False</td>\n",
       "      <td>False</td>\n",
       "      <td>False</td>\n",
       "      <td>False</td>\n",
       "      <td>False</td>\n",
       "      <td>False</td>\n",
       "    </tr>\n",
       "    <tr>\n",
       "      <th>241</th>\n",
       "      <td>False</td>\n",
       "      <td>False</td>\n",
       "      <td>False</td>\n",
       "      <td>False</td>\n",
       "      <td>False</td>\n",
       "      <td>False</td>\n",
       "      <td>False</td>\n",
       "    </tr>\n",
       "    <tr>\n",
       "      <th>242</th>\n",
       "      <td>False</td>\n",
       "      <td>False</td>\n",
       "      <td>False</td>\n",
       "      <td>False</td>\n",
       "      <td>False</td>\n",
       "      <td>False</td>\n",
       "      <td>False</td>\n",
       "    </tr>\n",
       "    <tr>\n",
       "      <th>243</th>\n",
       "      <td>False</td>\n",
       "      <td>False</td>\n",
       "      <td>False</td>\n",
       "      <td>False</td>\n",
       "      <td>False</td>\n",
       "      <td>False</td>\n",
       "      <td>False</td>\n",
       "    </tr>\n",
       "  </tbody>\n",
       "</table>\n",
       "<p>244 rows × 7 columns</p>\n",
       "</div>"
      ],
      "text/plain": [
       "     total_bill    tip    sex  smoker    day   time   size\n",
       "0         False  False  False   False  False  False  False\n",
       "1         False  False  False   False  False  False  False\n",
       "2         False  False  False   False  False  False  False\n",
       "3         False  False  False   False  False  False  False\n",
       "4         False  False  False   False  False  False  False\n",
       "..          ...    ...    ...     ...    ...    ...    ...\n",
       "239       False  False  False   False  False  False  False\n",
       "240       False  False  False   False  False  False  False\n",
       "241       False  False  False   False  False  False  False\n",
       "242       False  False  False   False  False  False  False\n",
       "243       False  False  False   False  False  False  False\n",
       "\n",
       "[244 rows x 7 columns]"
      ]
     },
     "execution_count": 14,
     "metadata": {},
     "output_type": "execute_result"
    }
   ],
   "source": [
    "#Answer 3\n",
    "#dataframe.isnull() : Returns true for missing components and false for non-missing components\n",
    "#dataframe.isnull().sum() : Returns column-wise total missing values\n",
    "#dataframe.isnull().sum().sum() : returns total missing values from dataset\n",
    "#dataframe.isnull().values.any(): to know if there are any missing values \n",
    "\n",
    "tips_df.isnull()"
   ]
  },
  {
   "cell_type": "code",
   "execution_count": 16,
   "metadata": {},
   "outputs": [
    {
     "data": {
      "text/plain": [
       "total_bill    0\n",
       "tip           0\n",
       "sex           0\n",
       "smoker        0\n",
       "day           0\n",
       "time          0\n",
       "size          0\n",
       "dtype: int64"
      ]
     },
     "execution_count": 16,
     "metadata": {},
     "output_type": "execute_result"
    }
   ],
   "source": [
    "tips_df.isnull().sum()"
   ]
  },
  {
   "cell_type": "code",
   "execution_count": 17,
   "metadata": {},
   "outputs": [
    {
     "data": {
      "text/plain": [
       "0"
      ]
     },
     "execution_count": 17,
     "metadata": {},
     "output_type": "execute_result"
    }
   ],
   "source": [
    "tips_df.isnull().sum().sum()"
   ]
  },
  {
   "cell_type": "code",
   "execution_count": 19,
   "metadata": {},
   "outputs": [
    {
     "data": {
      "text/plain": [
       "False"
      ]
     },
     "execution_count": 19,
     "metadata": {},
     "output_type": "execute_result"
    }
   ],
   "source": [
    "tips_df.isnull().values.any()"
   ]
  },
  {
   "cell_type": "markdown",
   "metadata": {},
   "source": [
    "### Find the mean, standard deviation of total bill and tip"
   ]
  },
  {
   "cell_type": "code",
   "execution_count": 4,
   "metadata": {},
   "outputs": [
    {
     "name": "stdout",
     "output_type": "stream",
     "text": [
      "total_bill - mean: 19.785942622950824\n",
      "total_bill - SD: 8.902411954856856 \n",
      "\n",
      "tip - mean: 2.9982786885245902\n",
      "tip - SD : 1.3836381890011826\n"
     ]
    }
   ],
   "source": [
    "#Answer 4\n",
    "##Total_bill\n",
    "total_bill_mean = tips_df.total_bill.mean() #tips_df['total_bill'].mean()\n",
    "total_bill_SD   = tips_df.total_bill.std()\n",
    "\n",
    "print('total_bill - mean:', total_bill_mean)\n",
    "print('total_bill - SD: {0} \\n'.format(total_bill_SD))\n",
    "\n",
    "##Tip\n",
    "tip_mean  = tips_df.tip.mean()\n",
    "tip_SD    = tips_df.tip.std()\n",
    "\n",
    "print('tip - mean:', tip_mean)\n",
    "print('tip - SD :', tip_SD)"
   ]
  },
  {
   "cell_type": "markdown",
   "metadata": {},
   "source": [
    "### Draw a bar graph to indicate the count of Male and female customers"
   ]
  },
  {
   "cell_type": "code",
   "execution_count": 25,
   "metadata": {},
   "outputs": [
    {
     "data": {
      "text/plain": [
       "Text(0.5, 1.0, 'Count of Male and Female customers')"
      ]
     },
     "execution_count": 25,
     "metadata": {},
     "output_type": "execute_result"
    },
    {
     "data": {
      "image/png": "[encoded data removed]",
      "text/plain": [
       "<Figure size 432x288 with 1 Axes>"
      ]
     },
     "metadata": {
      "needs_background": "light"
     },
     "output_type": "display_data"
    }
   ],
   "source": [
    "#Answer 5\n",
    "#Bar graph\n",
    "\n",
    "tips_df['sex'].value_counts().plot(kind='bar')\n",
    "\n",
    "plt.xlabel(\"Gender\")\n",
    "plt.ylabel(\"Count of People\")\n",
    "plt.title(\"Count of Male and Female customers\")"
   ]
  },
  {
   "cell_type": "markdown",
   "metadata": {},
   "source": [
    "### Display the column total_bill as a series and a dataframe"
   ]
  },
  {
   "cell_type": "code",
   "execution_count": 28,
   "metadata": {},
   "outputs": [
    {
     "name": "stdout",
     "output_type": "stream",
     "text": [
      "Series of total_bill:-\n",
      " 0      16.99\n",
      "1      10.34\n",
      "2      21.01\n",
      "3      23.68\n",
      "4      24.59\n",
      "       ...  \n",
      "239    29.03\n",
      "240    27.18\n",
      "241    22.67\n",
      "242    17.82\n",
      "243    18.78\n",
      "Name: total_bill, Length: 244, dtype: float64\n",
      "\n",
      " Dataframe of total_bill:-\n",
      "      total_bill\n",
      "0         16.99\n",
      "1         10.34\n",
      "2         21.01\n",
      "3         23.68\n",
      "4         24.59\n",
      "..          ...\n",
      "239       29.03\n",
      "240       27.18\n",
      "241       22.67\n",
      "242       17.82\n",
      "243       18.78\n",
      "\n",
      "[244 rows x 1 columns]\n"
     ]
    }
   ],
   "source": [
    "#Answer 6\n",
    "#As a Series\n",
    "e = pd.Series(tips_df['total_bill'])\n",
    "print('Series of total_bill:-\\n',e)\n",
    "\n",
    "#As a dataframe\n",
    "df = pd.DataFrame(e)\n",
    "print('\\n Dataframe of total_bill:-\\n',df)"
   ]
  },
  {
   "cell_type": "markdown",
   "metadata": {},
   "source": [
    "# Univariate analysis"
   ]
  },
  {
   "cell_type": "markdown",
   "metadata": {},
   "source": [
    "### Plot the kernel density estimate for the 'tip' and 'total_bill' column.\n",
    "(There are two ways with which we can achieve this)  "
   ]
  },
  {
   "cell_type": "code",
   "execution_count": 30,
   "metadata": {},
   "outputs": [
    {
     "data": {
      "text/plain": [
       "<matplotlib.axes._subplots.AxesSubplot at 0x1acb1b84ac8>"
      ]
     },
     "execution_count": 30,
     "metadata": {},
     "output_type": "execute_result"
    },
    {
     "data": {
      "image/png": "[encoded data removed]",
      "text/plain": [
       "<Figure size 432x288 with 1 Axes>"
      ]
     },
     "metadata": {
      "needs_background": "light"
     },
     "output_type": "display_data"
    },
    {
     "data": {
      "image/png": "[encoded data removed]",
      "text/plain": [
       "<Figure size 432x288 with 1 Axes>"
      ]
     },
     "metadata": {
      "needs_background": "light"
     },
     "output_type": "display_data"
    }
   ],
   "source": [
    "#Answer 7\n",
    "import seaborn as sb\n",
    "plt.figure(1)\n",
    "sb.kdeplot(tips_df['total_bill'])\n",
    "plt.figure(2)\n",
    "sb.kdeplot(tips_df['tip'])"
   ]
  },
  {
   "cell_type": "code",
   "execution_count": 32,
   "metadata": {},
   "outputs": [
    {
     "data": {
      "image/png": "[encoded data removed]",
      "text/plain": [
       "<Figure size 432x288 with 1 Axes>"
      ]
     },
     "metadata": {
      "needs_background": "light"
     },
     "output_type": "display_data"
    },
    {
     "data": {
      "image/png": "[encoded data removed]",
      "text/plain": [
       "<Figure size 432x288 with 1 Axes>"
      ]
     },
     "metadata": {
      "needs_background": "light"
     },
     "output_type": "display_data"
    }
   ],
   "source": [
    "plt.figure(1)\n",
    "f = tips_df['total_bill'].plot.kde()\n",
    "plt.figure(2)\n",
    "g = tips_df['tip'].plot.kde()"
   ]
  },
  {
   "cell_type": "code",
   "execution_count": 34,
   "metadata": {},
   "outputs": [
    {
     "data": {
      "text/plain": [
       "<matplotlib.axes._subplots.AxesSubplot at 0x1acb1ea0b08>"
      ]
     },
     "execution_count": 34,
     "metadata": {},
     "output_type": "execute_result"
    },
    {
     "data": {
      "image/png": "[encoded data removed]",
      "text/plain": [
       "<Figure size 432x288 with 1 Axes>"
      ]
     },
     "metadata": {
      "needs_background": "light"
     },
     "output_type": "display_data"
    },
    {
     "data": {
      "image/png": "[encoded data removed]",
      "text/plain": [
       "<Figure size 432x288 with 1 Axes>"
      ]
     },
     "metadata": {
      "needs_background": "light"
     },
     "output_type": "display_data"
    }
   ],
   "source": [
    "#seaborn.distplot(a, bins=None, hist=True, kde=True\n",
    " #                , rug=False, fit=None, hist_kws=None, kde_kws=None\n",
    " #                , rug_kws=None, fit_kws=None, color=None, vertical=False\n",
    " #                , norm_hist=False, axlabel=None, label=None, ax=None)\n",
    "plt.figure(1)\n",
    "sb.distplot(tips_df['total_bill'], hist = False)\n",
    "plt.figure(2)\n",
    "sb.distplot(tips_df['tip'], hist = False)"
   ]
  },
  {
   "cell_type": "markdown",
   "metadata": {},
   "source": [
    "# Bivariate Analysis"
   ]
  },
  {
   "cell_type": "markdown",
   "metadata": {},
   "source": [
    "### Find the relationship between the total bill and the tip (Use scatter plot)"
   ]
  },
  {
   "cell_type": "code",
   "execution_count": 38,
   "metadata": {},
   "outputs": [
    {
     "data": {
      "text/plain": [
       "<matplotlib.axes._subplots.AxesSubplot at 0x1acb221ce08>"
      ]
     },
     "execution_count": 38,
     "metadata": {},
     "output_type": "execute_result"
    },
    {
     "data": {
      "image/png": "[encoded data removed]",
      "text/plain": [
       "<Figure size 432x288 with 1 Axes>"
      ]
     },
     "metadata": {
      "needs_background": "light"
     },
     "output_type": "display_data"
    }
   ],
   "source": [
    "#Answer 8\n",
    "# A scatter plot is a diagram where each value in the data set is represented by a dot.\n",
    "sb.scatterplot(x='total_bill', y = 'tip', data = tips_df)"
   ]
  },
  {
   "cell_type": "code",
   "execution_count": 36,
   "metadata": {},
   "outputs": [
    {
     "data": {
      "text/plain": [
       "<seaborn.axisgrid.FacetGrid at 0x1acb1fea708>"
      ]
     },
     "execution_count": 36,
     "metadata": {},
     "output_type": "execute_result"
    },
    {
     "data": {
      "image/png": "[encoded data removed]",
      "text/plain": [
       "<Figure size 360x360 with 1 Axes>"
      ]
     },
     "metadata": {
      "needs_background": "light"
     },
     "output_type": "display_data"
    }
   ],
   "source": [
    "# Relational plot - plotting relationship between variables; By default kind ='scatter'\n",
    "\n",
    "sb.relplot(x=\"total_bill\", y=\"tip\", data=tips_df)"
   ]
  },
  {
   "cell_type": "code",
   "execution_count": 41,
   "metadata": {},
   "outputs": [],
   "source": [
    "#sb.lmplot(x = 'total_bill', y = 'tip', data = tips_df) # Shows diversion from liner line\n",
    "#Pairplot -  a relationship between two variables.\n",
    "#sb.pairplot(data=tips_ds, hue = 'sex', x_vars=\"total_bill\", y_vars=\"tip\", kind=\"scatter\", height =5)"
   ]
  },
  {
   "cell_type": "markdown",
   "metadata": {},
   "source": [
    "### Plot the total bill in each day paid by male and female customers\n",
    "hint = hue the third variable in scatter plot"
   ]
  },
  {
   "cell_type": "code",
   "execution_count": 45,
   "metadata": {},
   "outputs": [
    {
     "data": {
      "text/plain": [
       "<matplotlib.axes._subplots.AxesSubplot at 0x1acb25787c8>"
      ]
     },
     "execution_count": 45,
     "metadata": {},
     "output_type": "execute_result"
    },
    {
     "data": {
      "image/png": "[encoded data removed]",
      "text/plain": [
       "<Figure size 432x288 with 1 Axes>"
      ]
     },
     "metadata": {
      "needs_background": "light"
     },
     "output_type": "display_data"
    }
   ],
   "source": [
    "#Answer 9\n",
    "# Hue parameter is used as a grouping variable, by categorising the data to show relationship between two axes\n",
    "sb.scatterplot(x=\"day\", y=\"total_bill\", data=tips_df, hue = 'sex')"
   ]
  },
  {
   "cell_type": "markdown",
   "metadata": {},
   "source": [
    "### Plot the total bill paid by the customers of size greater than 2 using scatter plot\n",
    "hint = use a query in the parameter of the data"
   ]
  },
  {
   "cell_type": "code",
   "execution_count": 53,
   "metadata": {},
   "outputs": [
    {
     "data": {
      "text/plain": [
       "<matplotlib.axes._subplots.AxesSubplot at 0x1acb4107a48>"
      ]
     },
     "execution_count": 53,
     "metadata": {},
     "output_type": "execute_result"
    },
    {
     "data": {
      "image/png": "[encoded data removed]",
      "text/plain": [
       "<Figure size 432x288 with 1 Axes>"
      ]
     },
     "metadata": {
      "needs_background": "light"
     },
     "output_type": "display_data"
    }
   ],
   "source": [
    "#Answer 10\n",
    "# DataFrame.query(expr, inplace=False, **kwargs)\n",
    "# expr: the expression to filter data\n",
    "# inplace: if true, makes changes in the original dataset as well\n",
    "\n",
    "sb.scatterplot(x='total_bill', y='size', data=tips_df.query('size > 2'))"
   ]
  },
  {
   "cell_type": "markdown",
   "metadata": {},
   "source": [
    "### Plot a violin plot of total bill paid by the male and female customers of size greater than 3\n",
    "\n",
    "hint = hue the third variable. Use a query."
   ]
  },
  {
   "cell_type": "code",
   "execution_count": 52,
   "metadata": {},
   "outputs": [
    {
     "data": {
      "text/plain": [
       "<matplotlib.axes._subplots.AxesSubplot at 0x1acb260df88>"
      ]
     },
     "execution_count": 52,
     "metadata": {},
     "output_type": "execute_result"
    },
    {
     "data": {
      "image/png": "[encoded data removed]",
      "text/plain": [
       "<Figure size 648x504 with 1 Axes>"
      ]
     },
     "metadata": {
      "needs_background": "light"
     },
     "output_type": "display_data"
    }
   ],
   "source": [
    "#Answer 11\n",
    "# Violin plot is a combination of box plot and kernel density estimation\n",
    "# These plots include a marker for the median of the data and a box indicating the interquartile range, \n",
    "# as in the standard box plots. Overlaid on this box plot is a kernel density estimation.\n",
    "\n",
    "plt.figure(figsize = (9,7))\n",
    "sb.violinplot(x=\"size\", y=\"total_bill\", hue = \"sex\", data = tips_df.query(\"size > 3\"))"
   ]
  },
  {
   "cell_type": "markdown",
   "metadata": {},
   "source": [
    "### Plot a countplot of 'time' with respect to male and female customers who paid the bill.  Figure size must be 8,5"
   ]
  },
  {
   "cell_type": "code",
   "execution_count": 55,
   "metadata": {},
   "outputs": [
    {
     "data": {
      "text/plain": [
       "<matplotlib.axes._subplots.AxesSubplot at 0x1acb413c408>"
      ]
     },
     "execution_count": 55,
     "metadata": {},
     "output_type": "execute_result"
    },
    {
     "data": {
      "image/png": "[encoded data removed]",
      "text/plain": [
       "<Figure size 576x360 with 1 Axes>"
      ]
     },
     "metadata": {
      "needs_background": "light"
     },
     "output_type": "display_data"
    }
   ],
   "source": [
    "#Answer 12\n",
    "# count plot: is a graphical display to show the number of occurrences or frequency for each categorical data using bars\n",
    "\n",
    "plt.figure(figsize=(8,5))\n",
    "sb.countplot(x = \"time\", hue = \"sex\", data=tips_df)"
   ]
  },
  {
   "cell_type": "markdown",
   "metadata": {},
   "source": [
    "### Draw box plots of total_bill and tip and find if there is any outlier"
   ]
  },
  {
   "cell_type": "code",
   "execution_count": 60,
   "metadata": {},
   "outputs": [
    {
     "name": "stdout",
     "output_type": "stream",
     "text": [
      "       total_bill         tip        size\n",
      "count  244.000000  244.000000  244.000000\n",
      "mean    19.785943    2.998279    2.569672\n",
      "std      8.902412    1.383638    0.951100\n",
      "min      3.070000    1.000000    1.000000\n",
      "25%     13.347500    2.000000    2.000000\n",
      "50%     17.795000    2.900000    2.000000\n",
      "75%     24.127500    3.562500    3.000000\n",
      "max     50.810000   10.000000    6.000000\n"
     ]
    },
    {
     "data": {
      "text/plain": [
       "<matplotlib.axes._subplots.AxesSubplot at 0x1acb42d0c48>"
      ]
     },
     "execution_count": 60,
     "metadata": {},
     "output_type": "execute_result"
    },
    {
     "data": {
      "image/png": "[encoded data removed]",
      "text/plain": [
       "<Figure size 432x288 with 1 Axes>"
      ]
     },
     "metadata": {
      "needs_background": "light"
     },
     "output_type": "display_data"
    },
    {
     "data": {
      "image/png": "[encoded data removed]",
      "text/plain": [
       "<Figure size 432x288 with 1 Axes>"
      ]
     },
     "metadata": {
      "needs_background": "light"
     },
     "output_type": "display_data"
    }
   ],
   "source": [
    "#Answer 13\n",
    "# Boxplot: A boxplot is a standardized way of displaying the distribution of data based on a five number summary \n",
    "#          (“minimum”, first quartile (Q1), median, third quartile (Q3), and “maximum”)\n",
    "# Outlier:  an outlier is an observation point that is distant from other observations\n",
    "\n",
    "print(tips_df.describe())\n",
    "plt.figure(1)\n",
    "sb.boxplot(x=tips_df[\"total_bill\"])\n",
    "plt.figure(2)\n",
    "sb.boxplot(x=tips_df[\"tip\"])"
   ]
  },
  {
   "cell_type": "markdown",
   "metadata": {},
   "source": [
    "### Draw a stripplot of total bill paid in a day by smokers and non-smokers"
   ]
  },
  {
   "cell_type": "code",
   "execution_count": 64,
   "metadata": {},
   "outputs": [
    {
     "data": {
      "text/plain": [
       "<matplotlib.axes._subplots.AxesSubplot at 0x1acb4427648>"
      ]
     },
     "execution_count": 64,
     "metadata": {},
     "output_type": "execute_result"
    },
    {
     "data": {
      "image/png": "[encoded data removed]",
      "text/plain": [
       "<Figure size 432x288 with 1 Axes>"
      ]
     },
     "metadata": {
      "needs_background": "light"
     },
     "output_type": "display_data"
    }
   ],
   "source": [
    "#Answer 14\n",
    "# A strip plot is a scatter plot where one of the variables is categorical.\n",
    "sb.stripplot(x='day', y = 'total_bill', data=tips_df, hue = 'smoker', jitter=0.20)"
   ]
  },
  {
   "cell_type": "markdown",
   "metadata": {},
   "source": [
    "# Correlation  "
   ]
  },
  {
   "cell_type": "markdown",
   "metadata": {},
   "source": [
    "### Draw a correlation matrix using heatmap for tip, totalbill and size"
   ]
  },
  {
   "cell_type": "code",
   "execution_count": 68,
   "metadata": {},
   "outputs": [
    {
     "name": "stdout",
     "output_type": "stream",
     "text": [
      "            total_bill       tip      size\n",
      "total_bill    1.000000  0.675734  0.598315\n",
      "tip           0.675734  1.000000  0.489299\n",
      "size          0.598315  0.489299  1.000000\n"
     ]
    },
    {
     "data": {
      "image/png": "[encoded data removed]",
      "text/plain": [
       "<Figure size 432x288 with 2 Axes>"
      ]
     },
     "metadata": {
      "needs_background": "light"
     },
     "output_type": "display_data"
    }
   ],
   "source": [
    "#Answer 15\n",
    "# Correlation matrix: It is a table showing correlation between a random variable in table \n",
    "#                     to some other random variable\n",
    "corr = tips_df.corr()\n",
    "print(corr)\n",
    "ax = sb.heatmap(corr, vmin=-1, vmax=1, center=0, square=True, annot=True)"
   ]
  },
  {
   "cell_type": "markdown",
   "metadata": {},
   "source": [
    "# New column creation "
   ]
  },
  {
   "cell_type": "markdown",
   "metadata": {},
   "source": [
    "### Create a new column tip_rating. if tip is greater than 5 then the value must be 'High', if it is between 2 and 5, then it must be 'Medium', if it is lesser than 2,  it must be 'Low' "
   ]
  },
  {
   "cell_type": "code",
   "execution_count": 72,
   "metadata": {},
   "outputs": [
    {
     "name": "stdout",
     "output_type": "stream",
     "text": [
      "     total_bill   tip     sex smoker   day    time  size tip_rating\n",
      "0         16.99  1.01  Female     No   Sun  Dinner     2        Low\n",
      "1         10.34  1.66    Male     No   Sun  Dinner     3        Low\n",
      "2         21.01  3.50    Male     No   Sun  Dinner     3     Medium\n",
      "3         23.68  3.31    Male     No   Sun  Dinner     2     Medium\n",
      "4         24.59  3.61  Female     No   Sun  Dinner     4     Medium\n",
      "..          ...   ...     ...    ...   ...     ...   ...        ...\n",
      "239       29.03  5.92    Male     No   Sat  Dinner     3       High\n",
      "240       27.18  2.00  Female    Yes   Sat  Dinner     2        Low\n",
      "241       22.67  2.00    Male    Yes   Sat  Dinner     2        Low\n",
      "242       17.82  1.75    Male     No   Sat  Dinner     2        Low\n",
      "243       18.78  3.00  Female     No  Thur  Dinner     2     Medium\n",
      "\n",
      "[244 rows x 8 columns]\n"
     ]
    }
   ],
   "source": [
    "#Answer 16\n",
    "tips_df['tip_rating'] = tips_df.tip.apply(lambda x: 'High' if x >= 5 else 'Medium' if (x<5 and x>2) else 'Low') #lambda arguments: expression\n",
    "print(tips_df)\n",
    "\n",
    "'''def assignvalue(x):\n",
    "    if x['tip'] > 5:\n",
    "        return 'High'\n",
    "    elif 2< x['tip'] <5:\n",
    "        return 'Medium'\n",
    "    else:\n",
    "        return 'Low'\n",
    "\n",
    "# apply the function\n",
    "tips_df[\"tip_rating\"] = tips_df.apply(assignvalue, axis=1)\n",
    "print(tips_df)'''"
   ]
  },
  {
   "cell_type": "markdown",
   "metadata": {},
   "source": [
    "### Plot the counts of tip_rating (count plot) "
   ]
  },
  {
   "cell_type": "code",
   "execution_count": 73,
   "metadata": {},
   "outputs": [
    {
     "data": {
      "text/plain": [
       "<matplotlib.axes._subplots.AxesSubplot at 0x1acb4786648>"
      ]
     },
     "execution_count": 73,
     "metadata": {},
     "output_type": "execute_result"
    },
    {
     "data": {
      "image/png": "[encoded data removed]",
      "text/plain": [
       "<Figure size 432x288 with 1 Axes>"
      ]
     },
     "metadata": {
      "needs_background": "light"
     },
     "output_type": "display_data"
    }
   ],
   "source": [
    "#Answer 17\n",
    "#Show value counts for a single categorical variable\n",
    "sb.countplot(x='tip_rating', data=tips_df)"
   ]
  },
  {
   "cell_type": "markdown",
   "metadata": {},
   "source": [
    "### Find the absolute and relative frequency of 'day', 'tip_rating' (separately)"
   ]
  },
  {
   "cell_type": "code",
   "execution_count": 87,
   "metadata": {},
   "outputs": [
    {
     "name": "stdout",
     "output_type": "stream",
     "text": [
      "Absolute Frequency Day: \n",
      "\n",
      "Sat     87\n",
      "Sun     76\n",
      "Thur    62\n",
      "Fri     19\n",
      "Name: day, dtype: int64 \n",
      "\n",
      "Absolute Tip Rating Frequency: \n",
      "\n",
      "Medium    138\n",
      "Low        78\n",
      "High       28\n",
      "Name: tip_rating, dtype: int64 \n",
      "\n",
      "Relative Frequency Day: \n",
      "\n",
      "Sat     0.356557\n",
      "Sun     0.311475\n",
      "Thur    0.254098\n",
      "Fri     0.077869\n",
      "Name: day, dtype: float64 \n",
      "\n",
      "Relative Tip Rating Frequency: \n",
      "\n",
      "Medium    0.565574\n",
      "Low       0.319672\n",
      "High      0.114754\n",
      "Name: tip_rating, dtype: float64 \n",
      "\n"
     ]
    }
   ],
   "source": [
    "#Answer 18\n",
    "absolute_freq_day        = pd.Series(tips_df.day).value_counts()\n",
    "absolute_freq_tip_rating = pd.Series(tips_df.tip_rating).value_counts()\n",
    "\n",
    "print(\"Absolute Frequency Day:\",\"\\n\")\n",
    "print(absolute_freq_day,\"\\n\")\n",
    "print(\"Absolute Tip Rating Frequency:\",\"\\n\")\n",
    "print(absolute_freq_tip_rating,\"\\n\")\n",
    "\n",
    "print(\"Relative Frequency Day:\",\"\\n\")\n",
    "print(absolute_freq_day / len(tips_df.day),\"\\n\")\n",
    "print(\"Relative Tip Rating Frequency:\",\"\\n\")\n",
    "print(absolute_freq_tip_rating / len(tips_df.day),\"\\n\")"
   ]
  },
  {
   "cell_type": "markdown",
   "metadata": {},
   "source": [
    "# Encoding"
   ]
  },
  {
   "cell_type": "markdown",
   "metadata": {},
   "source": [
    "### Perform one hot encoding in tip rating, day, smoker (copy the three columns in another dataframe)"
   ]
  },
  {
   "cell_type": "code",
   "execution_count": 92,
   "metadata": {},
   "outputs": [
    {
     "data": {
      "text/html": [
       "<div>\n",
       "<style scoped>\n",
       "    .dataframe tbody tr th:only-of-type {\n",
       "        vertical-align: middle;\n",
       "    }\n",
       "\n",
       "    .dataframe tbody tr th {\n",
       "        vertical-align: top;\n",
       "    }\n",
       "\n",
       "    .dataframe thead th {\n",
       "        text-align: right;\n",
       "    }\n",
       "</style>\n",
       "<table border=\"1\" class=\"dataframe\">\n",
       "  <thead>\n",
       "    <tr style=\"text-align: right;\">\n",
       "      <th></th>\n",
       "      <th>tip_rating_High</th>\n",
       "      <th>tip_rating_Low</th>\n",
       "      <th>tip_rating_Medium</th>\n",
       "      <th>day_Thur</th>\n",
       "      <th>day_Fri</th>\n",
       "      <th>day_Sat</th>\n",
       "      <th>day_Sun</th>\n",
       "      <th>smoker_Yes</th>\n",
       "      <th>smoker_No</th>\n",
       "    </tr>\n",
       "  </thead>\n",
       "  <tbody>\n",
       "    <tr>\n",
       "      <th>0</th>\n",
       "      <td>0</td>\n",
       "      <td>1</td>\n",
       "      <td>0</td>\n",
       "      <td>0</td>\n",
       "      <td>0</td>\n",
       "      <td>0</td>\n",
       "      <td>1</td>\n",
       "      <td>0</td>\n",
       "      <td>1</td>\n",
       "    </tr>\n",
       "    <tr>\n",
       "      <th>1</th>\n",
       "      <td>0</td>\n",
       "      <td>1</td>\n",
       "      <td>0</td>\n",
       "      <td>0</td>\n",
       "      <td>0</td>\n",
       "      <td>0</td>\n",
       "      <td>1</td>\n",
       "      <td>0</td>\n",
       "      <td>1</td>\n",
       "    </tr>\n",
       "    <tr>\n",
       "      <th>2</th>\n",
       "      <td>0</td>\n",
       "      <td>0</td>\n",
       "      <td>1</td>\n",
       "      <td>0</td>\n",
       "      <td>0</td>\n",
       "      <td>0</td>\n",
       "      <td>1</td>\n",
       "      <td>0</td>\n",
       "      <td>1</td>\n",
       "    </tr>\n",
       "    <tr>\n",
       "      <th>3</th>\n",
       "      <td>0</td>\n",
       "      <td>0</td>\n",
       "      <td>1</td>\n",
       "      <td>0</td>\n",
       "      <td>0</td>\n",
       "      <td>0</td>\n",
       "      <td>1</td>\n",
       "      <td>0</td>\n",
       "      <td>1</td>\n",
       "    </tr>\n",
       "    <tr>\n",
       "      <th>4</th>\n",
       "      <td>0</td>\n",
       "      <td>0</td>\n",
       "      <td>1</td>\n",
       "      <td>0</td>\n",
       "      <td>0</td>\n",
       "      <td>0</td>\n",
       "      <td>1</td>\n",
       "      <td>0</td>\n",
       "      <td>1</td>\n",
       "    </tr>\n",
       "    <tr>\n",
       "      <th>...</th>\n",
       "      <td>...</td>\n",
       "      <td>...</td>\n",
       "      <td>...</td>\n",
       "      <td>...</td>\n",
       "      <td>...</td>\n",
       "      <td>...</td>\n",
       "      <td>...</td>\n",
       "      <td>...</td>\n",
       "      <td>...</td>\n",
       "    </tr>\n",
       "    <tr>\n",
       "      <th>239</th>\n",
       "      <td>1</td>\n",
       "      <td>0</td>\n",
       "      <td>0</td>\n",
       "      <td>0</td>\n",
       "      <td>0</td>\n",
       "      <td>1</td>\n",
       "      <td>0</td>\n",
       "      <td>0</td>\n",
       "      <td>1</td>\n",
       "    </tr>\n",
       "    <tr>\n",
       "      <th>240</th>\n",
       "      <td>0</td>\n",
       "      <td>1</td>\n",
       "      <td>0</td>\n",
       "      <td>0</td>\n",
       "      <td>0</td>\n",
       "      <td>1</td>\n",
       "      <td>0</td>\n",
       "      <td>1</td>\n",
       "      <td>0</td>\n",
       "    </tr>\n",
       "    <tr>\n",
       "      <th>241</th>\n",
       "      <td>0</td>\n",
       "      <td>1</td>\n",
       "      <td>0</td>\n",
       "      <td>0</td>\n",
       "      <td>0</td>\n",
       "      <td>1</td>\n",
       "      <td>0</td>\n",
       "      <td>1</td>\n",
       "      <td>0</td>\n",
       "    </tr>\n",
       "    <tr>\n",
       "      <th>242</th>\n",
       "      <td>0</td>\n",
       "      <td>1</td>\n",
       "      <td>0</td>\n",
       "      <td>0</td>\n",
       "      <td>0</td>\n",
       "      <td>1</td>\n",
       "      <td>0</td>\n",
       "      <td>0</td>\n",
       "      <td>1</td>\n",
       "    </tr>\n",
       "    <tr>\n",
       "      <th>243</th>\n",
       "      <td>0</td>\n",
       "      <td>0</td>\n",
       "      <td>1</td>\n",
       "      <td>1</td>\n",
       "      <td>0</td>\n",
       "      <td>0</td>\n",
       "      <td>0</td>\n",
       "      <td>0</td>\n",
       "      <td>1</td>\n",
       "    </tr>\n",
       "  </tbody>\n",
       "</table>\n",
       "<p>244 rows × 9 columns</p>\n",
       "</div>"
      ],
      "text/plain": [
       "     tip_rating_High  tip_rating_Low  tip_rating_Medium  day_Thur  day_Fri  \\\n",
       "0                  0               1                  0         0        0   \n",
       "1                  0               1                  0         0        0   \n",
       "2                  0               0                  1         0        0   \n",
       "3                  0               0                  1         0        0   \n",
       "4                  0               0                  1         0        0   \n",
       "..               ...             ...                ...       ...      ...   \n",
       "239                1               0                  0         0        0   \n",
       "240                0               1                  0         0        0   \n",
       "241                0               1                  0         0        0   \n",
       "242                0               1                  0         0        0   \n",
       "243                0               0                  1         1        0   \n",
       "\n",
       "     day_Sat  day_Sun  smoker_Yes  smoker_No  \n",
       "0          0        1           0          1  \n",
       "1          0        1           0          1  \n",
       "2          0        1           0          1  \n",
       "3          0        1           0          1  \n",
       "4          0        1           0          1  \n",
       "..       ...      ...         ...        ...  \n",
       "239        1        0           0          1  \n",
       "240        1        0           1          0  \n",
       "241        1        0           1          0  \n",
       "242        1        0           0          1  \n",
       "243        0        0           0          1  \n",
       "\n",
       "[244 rows x 9 columns]"
      ]
     },
     "execution_count": 92,
     "metadata": {},
     "output_type": "execute_result"
    }
   ],
   "source": [
    "#Answer 19\n",
    "#pandas.get_dummies(data, prefix=None, prefix_sep='_', dummy_na=False\n",
    "#                    , columns=None, sparse=False, drop_first=False, dtype=None)\n",
    "new_df = pd.DataFrame(tips_df, columns = ['tip_rating','day','smoker'])\n",
    "\n",
    "#Convert categorical variable into dummy/indicator variables.\n",
    "pd.get_dummies(new_df, columns = ['tip_rating','day','smoker'] )"
   ]
  },
  {
   "cell_type": "markdown",
   "metadata": {},
   "source": [
    "### Perform label encoding in tip rating, day, smoker (copy the three columns in another dataframe)"
   ]
  },
  {
   "cell_type": "code",
   "execution_count": 82,
   "metadata": {},
   "outputs": [
    {
     "name": "stdout",
     "output_type": "stream",
     "text": [
      "     tip_rating  day  smoker\n",
      "0             1    2       0\n",
      "1             1    2       0\n",
      "2             2    2       0\n",
      "3             2    2       0\n",
      "4             2    2       0\n",
      "..          ...  ...     ...\n",
      "239           0    1       0\n",
      "240           1    1       1\n",
      "241           1    1       1\n",
      "242           1    1       0\n",
      "243           2    3       0\n",
      "\n",
      "[244 rows x 3 columns]\n"
     ]
    }
   ],
   "source": [
    "#Answer 20\n",
    "# Label Encoding: converting the labels into numeric form so as to convert it into the machine-readable form\n",
    "from sklearn.preprocessing import LabelEncoder \n",
    "\n",
    "le = LabelEncoder() \n",
    "\n",
    "# Assigning numerical values and storing in another column\n",
    "# Each label is assigned a unique integer based on alphabetical ordering.\n",
    "df['tip_rating']= le.fit_transform(df['tip_rating']) \n",
    "df['day']= le.fit_transform(df['day']) \n",
    "df['smoker']= le.fit_transform(df['smoker']) \n",
    "\n",
    "df_new = pd.DataFrame(columns=['tip_rating', 'day', 'smoker'], data=df)\n",
    "print(df_new)"
   ]
  },
  {
   "cell_type": "code",
   "execution_count": null,
   "metadata": {},
   "outputs": [],
   "source": []
  }
 ],
 "metadata": {
  "kernelspec": {
   "display_name": "Python 3",
   "language": "python",
   "name": "python3"
  },
  "language_info": {
   "codemirror_mode": {
    "name": "ipython",
    "version": 3
   },
   "file_extension": ".py",
   "mimetype": "text/x-python",
   "name": "python",
   "nbconvert_exporter": "python",
   "pygments_lexer": "ipython3",
   "version": "3.7.6"
  },
  "toc": {
   "base_numbering": 1,
   "nav_menu": {},
   "number_sections": false,
   "sideBar": true,
   "skip_h1_title": false,
   "title_cell": "Table of Contents",
   "title_sidebar": "Contents",
   "toc_cell": false,
   "toc_position": {
    "height": "calc(100% - 180px)",
    "left": "10px",
    "top": "150px",
    "width": "256px"
   },
   "toc_section_display": true,
   "toc_window_display": false
  },
  "varInspector": {
   "cols": {
    "lenName": 16,
    "lenType": 16,
    "lenVar": 40
   },
   "kernels_config": {
    "python": {
     "delete_cmd_postfix": "",
     "delete_cmd_prefix": "del ",
     "library": "var_list.py",
     "varRefreshCmd": "print(var_dic_list())"
    },
    "r": {
     "delete_cmd_postfix": ") ",
     "delete_cmd_prefix": "rm(",
     "library": "var_list.r",
     "varRefreshCmd": "cat(var_dic_list()) "
    }
   },
   "types_to_exclude": [
    "module",
    "function",
    "builtin_function_or_method",
    "instance",
    "_Feature"
   ],
   "window_display": false
  }
 },
 "nbformat": 4,
 "nbformat_minor": 2
}
